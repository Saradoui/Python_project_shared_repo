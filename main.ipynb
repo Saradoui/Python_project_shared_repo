{
 "cells": [
  {
   "cell_type": "markdown",
   "metadata": {},
   "source": [
    "Let's leave this main file as our clean version of the code we will then submit. \n",
    "We can work separement sur nos files and compare our results if we work à distance and stuff that are similar can be put here "
   ]
  },
  {
   "cell_type": "markdown",
   "metadata": {},
   "source": [
    "Customer Churn Analysis (Banking)\n",
    "\n",
    "CONTEXT\n",
    "\n",
    "A european bank wants to identify the main factors contributing to customer churn (i.e., customers leaving the bank and closing their accounts). By doing so, the bank can target such customers with incentives, or use this knowledge to propose new products that are better suited to their needs.\n",
    "\n",
    "QUESTIONS\n",
    "\n",
    "What is the churn rate among the bank's customers?\n",
    "\n",
    "How are the different variables (gender, age, geography, etc.) distributed in the dataset?\n",
    "\n",
    "How do the different variables interact with each other?\n",
    "\n",
    "What are the age, salary, balance, number of products, etc. distributions for each gender group?\n",
    "\n",
    "How are different indicators distributed by country?\n",
    "etc.\n",
    "\n",
    "How do the different variables affect churn? What are the causes that can lead to increased (or reduced) customer churn?\n",
    "\n",
    "(Optional) Build a simple machine learning classification model that predicts churn based on a customer's features."
   ]
  }
 ],
 "metadata": {
  "kernelspec": {
   "display_name": "Python 3",
   "language": "python",
   "name": "python3"
  },
  "language_info": {
   "name": "python",
   "version": "3.9.19"
  }
 },
 "nbformat": 4,
 "nbformat_minor": 2
}
